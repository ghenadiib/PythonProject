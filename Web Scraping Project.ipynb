{
 "cells": [
  {
   "cell_type": "code",
   "execution_count": 1,
   "id": "0cedb6b2",
   "metadata": {},
   "outputs": [],
   "source": [
    "import requests"
   ]
  },
  {
   "cell_type": "code",
   "execution_count": 21,
   "id": "fb4f90e7",
   "metadata": {},
   "outputs": [],
   "source": [
    "import pandas as pd"
   ]
  },
  {
   "cell_type": "code",
   "execution_count": 7,
   "id": "affa7ea9",
   "metadata": {},
   "outputs": [],
   "source": [
    "from bs4 import BeautifulSoup"
   ]
  },
  {
   "cell_type": "code",
   "execution_count": 2,
   "id": "ebb0281f",
   "metadata": {},
   "outputs": [],
   "source": [
    "url = 'https://books.toscrape.com/catalogue/page-1.html'"
   ]
  },
  {
   "cell_type": "code",
   "execution_count": 4,
   "id": "a013172e",
   "metadata": {},
   "outputs": [],
   "source": [
    "response = requests.get(url)"
   ]
  },
  {
   "cell_type": "code",
   "execution_count": 5,
   "id": "17ad9d4f",
   "metadata": {},
   "outputs": [
    {
     "data": {
      "text/plain": [
       "<Response [200]>"
      ]
     },
     "execution_count": 5,
     "metadata": {},
     "output_type": "execute_result"
    }
   ],
   "source": [
    "response"
   ]
  },
  {
   "cell_type": "code",
   "execution_count": 6,
   "id": "3ad38265",
   "metadata": {},
   "outputs": [],
   "source": [
    "response = response.content"
   ]
  },
  {
   "cell_type": "code",
   "execution_count": 8,
   "id": "639b91c9",
   "metadata": {},
   "outputs": [],
   "source": [
    "soup = BeautifulSoup(response, 'html.parser')"
   ]
  },
  {
   "cell_type": "code",
   "execution_count": 10,
   "id": "594270a3",
   "metadata": {},
   "outputs": [],
   "source": [
    "ol = soup.find('ol')"
   ]
  },
  {
   "cell_type": "code",
   "execution_count": 11,
   "id": "a29e7d25",
   "metadata": {},
   "outputs": [],
   "source": [
    "articles = ol.find_all('article', class_='product_pod')"
   ]
  },
  {
   "cell_type": "code",
   "execution_count": 19,
   "id": "4f5a5c4e",
   "metadata": {},
   "outputs": [
    {
     "name": "stdout",
     "output_type": "stream",
     "text": [
      "[['A Light in the Attic', 51.77, 'Three'], ['Tipping the Velvet', 53.74, 'One'], ['Soumission', 50.1, 'One'], ['Sharp Objects', 47.82, 'Four'], ['Sapiens: A Brief History of Humankind', 54.23, 'Five'], ['The Requiem Red', 22.65, 'One'], ['The Dirty Little Secrets of Getting Your Dream Job', 33.34, 'Four'], ['The Coming Woman: A Novel Based on the Life of the Infamous Feminist, Victoria Woodhull', 17.93, 'Three'], ['The Boys in the Boat: Nine Americans and Their Epic Quest for Gold at the 1936 Berlin Olympics', 22.6, 'Four'], ['The Black Maria', 52.15, 'One'], ['Starving Hearts (Triangular Trade Trilogy, #1)', 13.99, 'Two'], [\"Shakespeare's Sonnets\", 20.66, 'Four'], ['Set Me Free', 17.46, 'Five'], [\"Scott Pilgrim's Precious Little Life (Scott Pilgrim #1)\", 52.29, 'Five'], ['Rip it Up and Start Again', 35.02, 'Five'], ['Our Band Could Be Your Life: Scenes from the American Indie Underground, 1981-1991', 57.25, 'Three'], ['Olio', 23.88, 'One'], ['Mesaerion: The Best Science Fiction Stories 1800-1849', 37.59, 'One'], ['Libertarianism for Beginners', 51.33, 'Two'], [\"It's Only the Himalayas\", 45.17, 'Two']]\n"
     ]
    }
   ],
   "source": [
    "items=[]\n",
    "\n",
    "for article in articles:\n",
    "    image = article.find('img')\n",
    "    title = image.attrs['alt']\n",
    "    star = article.find('p')\n",
    "    star = star['class'][1]\n",
    "    price = article.find('p', class_='price_color').text\n",
    "    price = float(price[1:])\n",
    "    items.append([title,price,star])\n",
    "    \n",
    "print(items)"
   ]
  },
  {
   "cell_type": "markdown",
   "id": "b72cac4b",
   "metadata": {},
   "source": [
    "# All of the above was for scraping one page, below is the code for all the pages"
   ]
  },
  {
   "cell_type": "code",
   "execution_count": 20,
   "id": "120c617b",
   "metadata": {},
   "outputs": [],
   "source": [
    "items=[]\n",
    "\n",
    "for i in range(1,51):\n",
    "    url = f\"https://books.toscrape.com/catalogue/page-{i}.html\"\n",
    "    response = requests.get(url)\n",
    "    response = response.content\n",
    "    soup = BeautifulSoup(response, 'html.parser')\n",
    "    ol = soup.find('ol')\n",
    "    articles = ol.find_all('article', class_='product_pod')\n",
    "\n",
    "    for article in articles:\n",
    "        image = article.find('img')\n",
    "        title = image.attrs['alt']\n",
    "        star = article.find('p')\n",
    "        star = star['class'][1]\n",
    "        price = article.find('p', class_='price_color').text\n",
    "        price = float(price[1:])\n",
    "        items.append([title,price,star])\n"
   ]
  },
  {
   "cell_type": "markdown",
   "id": "b30a51a2",
   "metadata": {},
   "source": [
    "# Exporting to CSV the books title, price and stars rating"
   ]
  },
  {
   "cell_type": "code",
   "execution_count": 22,
   "id": "15914748",
   "metadata": {},
   "outputs": [],
   "source": [
    "df = pd.DataFrame(items, columns=['Title', 'Price', 'Star Rating'])"
   ]
  },
  {
   "cell_type": "code",
   "execution_count": 24,
   "id": "e3249923",
   "metadata": {},
   "outputs": [],
   "source": [
    "df.to_csv('books.csv')"
   ]
  }
 ],
 "metadata": {
  "kernelspec": {
   "display_name": "Python 3 (ipykernel)",
   "language": "python",
   "name": "python3"
  },
  "language_info": {
   "codemirror_mode": {
    "name": "ipython",
    "version": 3
   },
   "file_extension": ".py",
   "mimetype": "text/x-python",
   "name": "python",
   "nbconvert_exporter": "python",
   "pygments_lexer": "ipython3",
   "version": "3.10.9"
  }
 },
 "nbformat": 4,
 "nbformat_minor": 5
}
